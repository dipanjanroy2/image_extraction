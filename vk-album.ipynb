{
 "cells": [
  {
   "cell_type": "code",
   "execution_count": null,
   "id": "included-classroom",
   "metadata": {},
   "outputs": [],
   "source": [
    "#imports here\n",
    "from selenium import webdriver\n",
    "from selenium.webdriver.common.keys import Keys\n",
    "from selenium.webdriver.support import expected_conditions as EC\n",
    "from selenium.webdriver.common.by import By\n",
    "from selenium.webdriver.support.wait import WebDriverWait\n",
    "import time"
   ]
  },
  {
   "cell_type": "code",
   "execution_count": null,
   "id": "agricultural-trustee",
   "metadata": {},
   "outputs": [],
   "source": [
    "driver = webdriver.Chrome()\n",
    "driver.get(\"http://vk.com\")\n",
    "time.sleep(3)\n",
    "\n",
    "driver.find_element_by_id(\"index_email\").send_keys(\"mail\") #mail or ph.number\n",
    "driver.find_element_by_id(\"index_pass\").send_keys(\"pass\") #pass\n",
    "driver.find_element_by_id(\"index_login_button\").click()"
   ]
  },
  {
   "cell_type": "code",
   "execution_count": null,
   "id": "irish-thought",
   "metadata": {},
   "outputs": [],
   "source": [
    "time.sleep(5)\n",
    "images = []\n",
    "for i in [\"albums\"]:\n",
    "    # ************************************************\n",
    "    # !! only album link-xxxxxx\n",
    "    # ************************************************\n",
    "    driver.get(\"https://vk.com/album-xxxxxx_00\")\n",
    "    time.sleep(2)\n",
    "    for j in range(0,7):\n",
    "        driver.execute_script(\"window.scrollTo(0, document.body.scrollHeight);\")\n",
    "        time.sleep(3)\n",
    "        "
   ]
  },
  {
   "cell_type": "code",
   "execution_count": null,
   "id": "extra-cooper",
   "metadata": {},
   "outputs": [],
   "source": [
    " #target all the link elements on the page\n",
    "    anchors = driver.find_elements_by_tag_name('a')\n",
    "    anchors = [a.get_attribute('href') for a in anchors]\n",
    "    anchors = [a for a in anchors if str(a).startswith(\"https://vk.com/photo-xxxxxx\")]\n",
    "    print('Found ' + str(len(anchors)) + ' links to images')\n",
    "    "
   ]
  },
  {
   "cell_type": "code",
   "execution_count": null,
   "id": "shared-beach",
   "metadata": {},
   "outputs": [],
   "source": [
    "    #extract the [1]st image element in each link\n",
    "    for a in anchors:\n",
    "        driver.get(a) #navigate to link\n",
    "        time.sleep(2) #wait a bit\n",
    "        img = driver.find_elements_by_tag_name(\"img\")\n",
    "        images.append(img[1].get_attribute(\"src\"))\n",
    "\n",
    "print('I scraped '+ str(len(images)) + ' images!')"
   ]
  },
  {
   "cell_type": "code",
   "execution_count": null,
   "id": "average-huntington",
   "metadata": {},
   "outputs": [],
   "source": [
    "images"
   ]
  },
  {
   "cell_type": "code",
   "execution_count": null,
   "id": "inclusive-wheat",
   "metadata": {},
   "outputs": [],
   "source": [
    "import os\n",
    "\n",
    "path = os.getcwd()\n",
    "path = os.path.join(path, \"godessgbtotal\")\n",
    "\n",
    "#create the directory\n",
    "os.mkdir(path)\n",
    "path"
   ]
  },
  {
   "cell_type": "code",
   "execution_count": null,
   "id": "sustained-porter",
   "metadata": {},
   "outputs": [],
   "source": [
    "import wget\n",
    "\n",
    "#download images\n",
    "counter = 0\n",
    "for image in images:\n",
    "    save_as = os.path.join(path, str(counter) + '.jpg')\n",
    "    wget.download(image, save_as)\n",
    "    counter += 1"
   ]
  }
 ],
 "metadata": {
  "kernelspec": {
   "display_name": "Python 3",
   "language": "python",
   "name": "python3"
  },
  "language_info": {
   "codemirror_mode": {
    "name": "ipython",
    "version": 3
   },
   "file_extension": ".py",
   "mimetype": "text/x-python",
   "name": "python",
   "nbconvert_exporter": "python",
   "pygments_lexer": "ipython3",
   "version": "3.8.5"
  }
 },
 "nbformat": 4,
 "nbformat_minor": 5
}
